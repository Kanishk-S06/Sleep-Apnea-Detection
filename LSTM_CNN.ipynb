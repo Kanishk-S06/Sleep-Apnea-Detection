{
  "cells": [
    {
      "cell_type": "code",
      "execution_count": null,
      "metadata": {
        "colab": {
          "base_uri": "https://localhost:8080/"
        },
        "id": "XqTWC10c68MH",
        "outputId": "710a519e-50bf-4616-f184-db0b6394ea29"
      },
      "outputs": [
        {
          "output_type": "stream",
          "name": "stdout",
          "text": [
            "Mounted at /content/drive\n"
          ]
        }
      ],
      "source": [
        "from google.colab import drive\n",
        "drive.mount('/content/drive')"
      ]
    },
    {
      "cell_type": "code",
      "execution_count": null,
      "metadata": {
        "colab": {
          "base_uri": "https://localhost:8080/"
        },
        "id": "JP4GEUSj81Uf",
        "outputId": "1772a62f-f9bb-417a-b9f9-90f3abf51e34"
      },
      "outputs": [
        {
          "output_type": "stream",
          "name": "stdout",
          "text": [
            "Checking folder structure:\n",
            "['Untitled document (17).gdoc', 'Chap-05-Addressing (1) (1).ppt', 'Chap-11-Routing (1) (1).ppt', 'Untitled document (16).gdoc', 'csma.ppt', 'Module 3 (4) (1).pdf', 'WhatsApp Image 2024-04-01 at 13.22.38_2b577d1e.jpg', '22BCE1416_lab10.docx', 'Untitled document (15).gdoc', 'Untitled document (14).gdoc', 'KanishkSharma.pdf', 'Untitled document (13).gdoc', 'Untitled document (12).gdoc', 'Untitled document (11).gdoc', 'Colab Notebooks', 'Untitled document (10).gdoc', 'Untitled document (9).gdoc', 'Untitled document (8).gdoc', 'Untitled document (7).gdoc', 'Fire-Detection', 'fires.csv', 'anushka_machinecodeGen.docx', 'Untitled document (6).gdoc', 'data', 'Untitled document (5).gdoc', 'od.pdf', 'Modify Itinerary.pdf', 'Cryptography Lab 1.docx', 'Untitled document (4).gdoc', 'Untitled document (3).gdoc', 'DIGITAL ASSIGNMENT 1.docx', 'Untitled document (2).gdoc', 'Untitled document (1).gdoc', 'AES.docx', 'Untitled document.gdoc', 'apnea-ecg-database-1.0.0', 'Kanishk.pdf', 'archive (1)', 'SnoringDataset', 'iot_ppt1.pptx', 'iot_ppt2.pptx', 'Untitled presentation.gslides', 'eygdsfinal.pptx']\n"
          ]
        }
      ],
      "source": [
        "# List all directories in your Google Drive\n",
        "import os\n",
        "dataset_path = '/content/drive/My Drive'\n",
        "print(\"Checking folder structure:\")\n",
        "print(os.listdir(dataset_path))\n"
      ]
    },
    {
      "cell_type": "code",
      "execution_count": null,
      "metadata": {
        "colab": {
          "base_uri": "https://localhost:8080/"
        },
        "id": "B9S3poTj7wuc",
        "outputId": "c9e11d22-c027-45a6-db57-4408f7caa0e2"
      },
      "outputs": [
        {
          "output_type": "stream",
          "name": "stdout",
          "text": [
            "Requirement already satisfied: tensorflow in /usr/local/lib/python3.11/dist-packages (2.18.0)\n",
            "Requirement already satisfied: librosa in /usr/local/lib/python3.11/dist-packages (0.10.2.post1)\n",
            "Requirement already satisfied: numpy in /usr/local/lib/python3.11/dist-packages (1.26.4)\n",
            "Requirement already satisfied: scikit-learn in /usr/local/lib/python3.11/dist-packages (1.6.1)\n",
            "Requirement already satisfied: absl-py>=1.0.0 in /usr/local/lib/python3.11/dist-packages (from tensorflow) (1.4.0)\n",
            "Requirement already satisfied: astunparse>=1.6.0 in /usr/local/lib/python3.11/dist-packages (from tensorflow) (1.6.3)\n",
            "Requirement already satisfied: flatbuffers>=24.3.25 in /usr/local/lib/python3.11/dist-packages (from tensorflow) (25.1.24)\n",
            "Requirement already satisfied: gast!=0.5.0,!=0.5.1,!=0.5.2,>=0.2.1 in /usr/local/lib/python3.11/dist-packages (from tensorflow) (0.6.0)\n",
            "Requirement already satisfied: google-pasta>=0.1.1 in /usr/local/lib/python3.11/dist-packages (from tensorflow) (0.2.0)\n",
            "Requirement already satisfied: libclang>=13.0.0 in /usr/local/lib/python3.11/dist-packages (from tensorflow) (18.1.1)\n",
            "Requirement already satisfied: opt-einsum>=2.3.2 in /usr/local/lib/python3.11/dist-packages (from tensorflow) (3.4.0)\n",
            "Requirement already satisfied: packaging in /usr/local/lib/python3.11/dist-packages (from tensorflow) (24.2)\n",
            "Requirement already satisfied: protobuf!=4.21.0,!=4.21.1,!=4.21.2,!=4.21.3,!=4.21.4,!=4.21.5,<6.0.0dev,>=3.20.3 in /usr/local/lib/python3.11/dist-packages (from tensorflow) (4.25.6)\n",
            "Requirement already satisfied: requests<3,>=2.21.0 in /usr/local/lib/python3.11/dist-packages (from tensorflow) (2.32.3)\n",
            "Requirement already satisfied: setuptools in /usr/local/lib/python3.11/dist-packages (from tensorflow) (75.1.0)\n",
            "Requirement already satisfied: six>=1.12.0 in /usr/local/lib/python3.11/dist-packages (from tensorflow) (1.17.0)\n",
            "Requirement already satisfied: termcolor>=1.1.0 in /usr/local/lib/python3.11/dist-packages (from tensorflow) (2.5.0)\n",
            "Requirement already satisfied: typing-extensions>=3.6.6 in /usr/local/lib/python3.11/dist-packages (from tensorflow) (4.12.2)\n",
            "Requirement already satisfied: wrapt>=1.11.0 in /usr/local/lib/python3.11/dist-packages (from tensorflow) (1.17.2)\n",
            "Requirement already satisfied: grpcio<2.0,>=1.24.3 in /usr/local/lib/python3.11/dist-packages (from tensorflow) (1.70.0)\n",
            "Requirement already satisfied: tensorboard<2.19,>=2.18 in /usr/local/lib/python3.11/dist-packages (from tensorflow) (2.18.0)\n",
            "Requirement already satisfied: keras>=3.5.0 in /usr/local/lib/python3.11/dist-packages (from tensorflow) (3.8.0)\n",
            "Requirement already satisfied: h5py>=3.11.0 in /usr/local/lib/python3.11/dist-packages (from tensorflow) (3.12.1)\n",
            "Requirement already satisfied: ml-dtypes<0.5.0,>=0.4.0 in /usr/local/lib/python3.11/dist-packages (from tensorflow) (0.4.1)\n",
            "Requirement already satisfied: tensorflow-io-gcs-filesystem>=0.23.1 in /usr/local/lib/python3.11/dist-packages (from tensorflow) (0.37.1)\n",
            "Requirement already satisfied: audioread>=2.1.9 in /usr/local/lib/python3.11/dist-packages (from librosa) (3.0.1)\n",
            "Requirement already satisfied: scipy>=1.2.0 in /usr/local/lib/python3.11/dist-packages (from librosa) (1.13.1)\n",
            "Requirement already satisfied: joblib>=0.14 in /usr/local/lib/python3.11/dist-packages (from librosa) (1.4.2)\n",
            "Requirement already satisfied: decorator>=4.3.0 in /usr/local/lib/python3.11/dist-packages (from librosa) (4.4.2)\n",
            "Requirement already satisfied: numba>=0.51.0 in /usr/local/lib/python3.11/dist-packages (from librosa) (0.61.0)\n",
            "Requirement already satisfied: soundfile>=0.12.1 in /usr/local/lib/python3.11/dist-packages (from librosa) (0.13.1)\n",
            "Requirement already satisfied: pooch>=1.1 in /usr/local/lib/python3.11/dist-packages (from librosa) (1.8.2)\n",
            "Requirement already satisfied: soxr>=0.3.2 in /usr/local/lib/python3.11/dist-packages (from librosa) (0.5.0.post1)\n",
            "Requirement already satisfied: lazy-loader>=0.1 in /usr/local/lib/python3.11/dist-packages (from librosa) (0.4)\n",
            "Requirement already satisfied: msgpack>=1.0 in /usr/local/lib/python3.11/dist-packages (from librosa) (1.1.0)\n",
            "Requirement already satisfied: threadpoolctl>=3.1.0 in /usr/local/lib/python3.11/dist-packages (from scikit-learn) (3.5.0)\n",
            "Requirement already satisfied: wheel<1.0,>=0.23.0 in /usr/local/lib/python3.11/dist-packages (from astunparse>=1.6.0->tensorflow) (0.45.1)\n",
            "Requirement already satisfied: rich in /usr/local/lib/python3.11/dist-packages (from keras>=3.5.0->tensorflow) (13.9.4)\n",
            "Requirement already satisfied: namex in /usr/local/lib/python3.11/dist-packages (from keras>=3.5.0->tensorflow) (0.0.8)\n",
            "Requirement already satisfied: optree in /usr/local/lib/python3.11/dist-packages (from keras>=3.5.0->tensorflow) (0.14.0)\n",
            "Requirement already satisfied: llvmlite<0.45,>=0.44.0dev0 in /usr/local/lib/python3.11/dist-packages (from numba>=0.51.0->librosa) (0.44.0)\n",
            "Requirement already satisfied: platformdirs>=2.5.0 in /usr/local/lib/python3.11/dist-packages (from pooch>=1.1->librosa) (4.3.6)\n",
            "Requirement already satisfied: charset-normalizer<4,>=2 in /usr/local/lib/python3.11/dist-packages (from requests<3,>=2.21.0->tensorflow) (3.4.1)\n",
            "Requirement already satisfied: idna<4,>=2.5 in /usr/local/lib/python3.11/dist-packages (from requests<3,>=2.21.0->tensorflow) (3.10)\n",
            "Requirement already satisfied: urllib3<3,>=1.21.1 in /usr/local/lib/python3.11/dist-packages (from requests<3,>=2.21.0->tensorflow) (2.3.0)\n",
            "Requirement already satisfied: certifi>=2017.4.17 in /usr/local/lib/python3.11/dist-packages (from requests<3,>=2.21.0->tensorflow) (2025.1.31)\n",
            "Requirement already satisfied: cffi>=1.0 in /usr/local/lib/python3.11/dist-packages (from soundfile>=0.12.1->librosa) (1.17.1)\n",
            "Requirement already satisfied: markdown>=2.6.8 in /usr/local/lib/python3.11/dist-packages (from tensorboard<2.19,>=2.18->tensorflow) (3.7)\n",
            "Requirement already satisfied: tensorboard-data-server<0.8.0,>=0.7.0 in /usr/local/lib/python3.11/dist-packages (from tensorboard<2.19,>=2.18->tensorflow) (0.7.2)\n",
            "Requirement already satisfied: werkzeug>=1.0.1 in /usr/local/lib/python3.11/dist-packages (from tensorboard<2.19,>=2.18->tensorflow) (3.1.3)\n",
            "Requirement already satisfied: pycparser in /usr/local/lib/python3.11/dist-packages (from cffi>=1.0->soundfile>=0.12.1->librosa) (2.22)\n",
            "Requirement already satisfied: MarkupSafe>=2.1.1 in /usr/local/lib/python3.11/dist-packages (from werkzeug>=1.0.1->tensorboard<2.19,>=2.18->tensorflow) (3.0.2)\n",
            "Requirement already satisfied: markdown-it-py>=2.2.0 in /usr/local/lib/python3.11/dist-packages (from rich->keras>=3.5.0->tensorflow) (3.0.0)\n",
            "Requirement already satisfied: pygments<3.0.0,>=2.13.0 in /usr/local/lib/python3.11/dist-packages (from rich->keras>=3.5.0->tensorflow) (2.18.0)\n",
            "Requirement already satisfied: mdurl~=0.1 in /usr/local/lib/python3.11/dist-packages (from markdown-it-py>=2.2.0->rich->keras>=3.5.0->tensorflow) (0.1.2)\n"
          ]
        }
      ],
      "source": [
        "\n",
        "!pip install tensorflow librosa numpy scikit-learn\n",
        "\n"
      ]
    },
    {
      "cell_type": "code",
      "execution_count": null,
      "metadata": {
        "colab": {
          "base_uri": "https://localhost:8080/"
        },
        "id": "b5n5ttrm63Xp",
        "outputId": "493b1d69-2202-4ca3-cdf8-81114d093c2e"
      },
      "outputs": [
        {
          "output_type": "stream",
          "name": "stdout",
          "text": [
            "Train class distribution: [400 400]\n",
            "Test class distribution: [100 100]\n"
          ]
        },
        {
          "output_type": "stream",
          "name": "stderr",
          "text": [
            "/usr/local/lib/python3.11/dist-packages/keras/src/layers/convolutional/base_conv.py:107: UserWarning: Do not pass an `input_shape`/`input_dim` argument to a layer. When using Sequential models, prefer using an `Input(shape)` object as the first layer in the model instead.\n",
            "  super().__init__(activity_regularizer=activity_regularizer, **kwargs)\n"
          ]
        },
        {
          "output_type": "stream",
          "name": "stdout",
          "text": [
            "Epoch 1/50\n",
            "\u001b[1m25/25\u001b[0m \u001b[32m━━━━━━━━━━━━━━━━━━━━\u001b[0m\u001b[37m\u001b[0m \u001b[1m7s\u001b[0m 68ms/step - accuracy: 0.7170 - loss: 0.5467 - val_accuracy: 0.5250 - val_loss: 0.8943\n",
            "Epoch 2/50\n",
            "\u001b[1m25/25\u001b[0m \u001b[32m━━━━━━━━━━━━━━━━━━━━\u001b[0m\u001b[37m\u001b[0m \u001b[1m1s\u001b[0m 47ms/step - accuracy: 0.9510 - loss: 0.2080 - val_accuracy: 0.5050 - val_loss: 1.1285\n",
            "Epoch 3/50\n",
            "\u001b[1m25/25\u001b[0m \u001b[32m━━━━━━━━━━━━━━━━━━━━\u001b[0m\u001b[37m\u001b[0m \u001b[1m1s\u001b[0m 44ms/step - accuracy: 0.9644 - loss: 0.1314 - val_accuracy: 0.5450 - val_loss: 0.9806\n",
            "Epoch 4/50\n",
            "\u001b[1m25/25\u001b[0m \u001b[32m━━━━━━━━━━━━━━━━━━━━\u001b[0m\u001b[37m\u001b[0m \u001b[1m1s\u001b[0m 44ms/step - accuracy: 0.9799 - loss: 0.0823 - val_accuracy: 0.5900 - val_loss: 0.9769\n",
            "Epoch 5/50\n",
            "\u001b[1m25/25\u001b[0m \u001b[32m━━━━━━━━━━━━━━━━━━━━\u001b[0m\u001b[37m\u001b[0m \u001b[1m1s\u001b[0m 44ms/step - accuracy: 0.9826 - loss: 0.0598 - val_accuracy: 0.6150 - val_loss: 0.7067\n",
            "Epoch 6/50\n",
            "\u001b[1m25/25\u001b[0m \u001b[32m━━━━━━━━━━━━━━━━━━━━\u001b[0m\u001b[37m\u001b[0m \u001b[1m1s\u001b[0m 44ms/step - accuracy: 0.9934 - loss: 0.0462 - val_accuracy: 0.6250 - val_loss: 1.4502\n",
            "Epoch 7/50\n",
            "\u001b[1m25/25\u001b[0m \u001b[32m━━━━━━━━━━━━━━━━━━━━\u001b[0m\u001b[37m\u001b[0m \u001b[1m1s\u001b[0m 44ms/step - accuracy: 0.9989 - loss: 0.0088 - val_accuracy: 0.6700 - val_loss: 1.0466\n",
            "Epoch 8/50\n",
            "\u001b[1m25/25\u001b[0m \u001b[32m━━━━━━━━━━━━━━━━━━━━\u001b[0m\u001b[37m\u001b[0m \u001b[1m1s\u001b[0m 44ms/step - accuracy: 0.9647 - loss: 0.0740 - val_accuracy: 0.7400 - val_loss: 0.5326\n",
            "Epoch 9/50\n",
            "\u001b[1m25/25\u001b[0m \u001b[32m━━━━━━━━━━━━━━━━━━━━\u001b[0m\u001b[37m\u001b[0m \u001b[1m1s\u001b[0m 48ms/step - accuracy: 0.9920 - loss: 0.0395 - val_accuracy: 0.8200 - val_loss: 0.4393\n",
            "Epoch 10/50\n",
            "\u001b[1m25/25\u001b[0m \u001b[32m━━━━━━━━━━━━━━━━━━━━\u001b[0m\u001b[37m\u001b[0m \u001b[1m1s\u001b[0m 48ms/step - accuracy: 0.9971 - loss: 0.0180 - val_accuracy: 0.9800 - val_loss: 0.0561\n",
            "Epoch 11/50\n",
            "\u001b[1m25/25\u001b[0m \u001b[32m━━━━━━━━━━━━━━━━━━━━\u001b[0m\u001b[37m\u001b[0m \u001b[1m1s\u001b[0m 48ms/step - accuracy: 0.9983 - loss: 0.0114 - val_accuracy: 0.8650 - val_loss: 0.3831\n",
            "Epoch 12/50\n",
            "\u001b[1m25/25\u001b[0m \u001b[32m━━━━━━━━━━━━━━━━━━━━\u001b[0m\u001b[37m\u001b[0m \u001b[1m1s\u001b[0m 46ms/step - accuracy: 0.9954 - loss: 0.0164 - val_accuracy: 0.9300 - val_loss: 0.1520\n",
            "Epoch 13/50\n",
            "\u001b[1m25/25\u001b[0m \u001b[32m━━━━━━━━━━━━━━━━━━━━\u001b[0m\u001b[37m\u001b[0m \u001b[1m1s\u001b[0m 44ms/step - accuracy: 0.9951 - loss: 0.0154 - val_accuracy: 0.9900 - val_loss: 0.0182\n",
            "Epoch 14/50\n",
            "\u001b[1m25/25\u001b[0m \u001b[32m━━━━━━━━━━━━━━━━━━━━\u001b[0m\u001b[37m\u001b[0m \u001b[1m1s\u001b[0m 47ms/step - accuracy: 0.9925 - loss: 0.0135 - val_accuracy: 0.6350 - val_loss: 1.5986\n",
            "Epoch 15/50\n",
            "\u001b[1m25/25\u001b[0m \u001b[32m━━━━━━━━━━━━━━━━━━━━\u001b[0m\u001b[37m\u001b[0m \u001b[1m1s\u001b[0m 47ms/step - accuracy: 0.9961 - loss: 0.0076 - val_accuracy: 0.9450 - val_loss: 0.1275\n",
            "Epoch 16/50\n",
            "\u001b[1m25/25\u001b[0m \u001b[32m━━━━━━━━━━━━━━━━━━━━\u001b[0m\u001b[37m\u001b[0m \u001b[1m1s\u001b[0m 44ms/step - accuracy: 0.9901 - loss: 0.0207 - val_accuracy: 0.9900 - val_loss: 0.0197\n",
            "Epoch 17/50\n",
            "\u001b[1m25/25\u001b[0m \u001b[32m━━━━━━━━━━━━━━━━━━━━\u001b[0m\u001b[37m\u001b[0m \u001b[1m1s\u001b[0m 44ms/step - accuracy: 0.9999 - loss: 0.0059 - val_accuracy: 0.9900 - val_loss: 0.0396\n",
            "Epoch 18/50\n",
            "\u001b[1m25/25\u001b[0m \u001b[32m━━━━━━━━━━━━━━━━━━━━\u001b[0m\u001b[37m\u001b[0m \u001b[1m1s\u001b[0m 44ms/step - accuracy: 0.9899 - loss: 0.0518 - val_accuracy: 0.9400 - val_loss: 0.1141\n",
            "\u001b[1m7/7\u001b[0m \u001b[32m━━━━━━━━━━━━━━━━━━━━\u001b[0m\u001b[37m\u001b[0m \u001b[1m0s\u001b[0m 12ms/step - accuracy: 0.9962 - loss: 0.0094\n",
            "\n",
            "Test Accuracy: 0.9900, Test Loss: 0.0182\n",
            "\u001b[1m7/7\u001b[0m \u001b[32m━━━━━━━━━━━━━━━━━━━━\u001b[0m\u001b[37m\u001b[0m \u001b[1m1s\u001b[0m 57ms/step\n",
            "\n",
            "Predicted Probability Values:\n",
            "[[9.9743950e-01]\n",
            " [1.0439906e-03]\n",
            " [6.9518405e-04]\n",
            " [4.4941457e-04]\n",
            " [9.9981719e-01]\n",
            " [9.8966253e-01]\n",
            " [9.9888390e-01]\n",
            " [9.9996173e-01]\n",
            " [9.0118774e-05]\n",
            " [4.6176743e-03]]\n",
            "\n",
            "Classification Report:\n",
            "              precision    recall  f1-score   support\n",
            "\n",
            "           0       0.98      1.00      0.99       100\n",
            "           1       1.00      0.98      0.99       100\n",
            "\n",
            "    accuracy                           0.99       200\n",
            "   macro avg       0.99      0.99      0.99       200\n",
            "weighted avg       0.99      0.99      0.99       200\n",
            "\n",
            "\n",
            "Confusion Matrix:\n",
            "[[100   0]\n",
            " [  2  98]]\n",
            "\n",
            "Precision: 1.0000, Recall: 0.9800, F1 Score: 0.9899\n"
          ]
        }
      ],
      "source": [
        "import os\n",
        "import numpy as np\n",
        "import librosa\n",
        "import tensorflow as tf\n",
        "from tensorflow.keras import layers, models\n",
        "from sklearn.model_selection import train_test_split\n",
        "from sklearn.metrics import classification_report, confusion_matrix, precision_score, recall_score, f1_score\n",
        "\n",
        "# Path to dataset folders\n",
        "SNORING_PATH = '/content/drive/My Drive/SnoringDataset/1'\n",
        "NON_SNORING_PATH = '/content/drive/My Drive/SnoringDataset/0'\n",
        "\n",
        "# Enhanced Data Augmentation\n",
        "def augment_audio(y, sr):\n",
        "    \"\"\"Augment audio with time stretching, pitch shifting, and noise addition\"\"\"\n",
        "    y = librosa.effects.time_stretch(y, rate=np.random.uniform(0.8, 1.2))  # Random stretch\n",
        "    y = librosa.effects.pitch_shift(y, sr=sr, n_steps=np.random.randint(-3, 3))  # Random pitch shift\n",
        "    noise = np.random.randn(len(y)) * 0.005  # Add slight noise\n",
        "    y = y + noise\n",
        "    return y, sr\n",
        "\n",
        "# Extract Mel Spectrogram\n",
        "def extract_mel_spectrogram(audio_file, augment=False):\n",
        "    \"\"\"Extract Mel spectrogram with optional augmentation\"\"\"\n",
        "    y, sr = librosa.load(audio_file, sr=None)\n",
        "\n",
        "    if augment:\n",
        "        y, sr = augment_audio(y, sr)\n",
        "\n",
        "    mel_spectrogram = librosa.feature.melspectrogram(y=y, sr=sr, n_mels=128, fmax=8000)\n",
        "    mel_spectrogram = librosa.power_to_db(mel_spectrogram, ref=np.max)\n",
        "    return mel_spectrogram.T  # Shape: (time_steps, n_mels)\n",
        "\n",
        "# Prepare Dataset\n",
        "def prepare_data(augment=False, target_length=130):\n",
        "    \"\"\"Load and preprocess dataset\"\"\"\n",
        "    X, y = [], []\n",
        "\n",
        "    for path, label in [(SNORING_PATH, 1), (NON_SNORING_PATH, 0)]:\n",
        "        for filename in os.listdir(path):\n",
        "            if filename.endswith(\".wav\"):\n",
        "                audio_file = os.path.join(path, filename)\n",
        "                mel_spec = extract_mel_spectrogram(audio_file, augment)\n",
        "\n",
        "                # Pad/truncate to target length\n",
        "                if mel_spec.shape[0] < target_length:\n",
        "                    pad_width = ((0, target_length - mel_spec.shape[0]), (0, 0))\n",
        "                    mel_spec = np.pad(mel_spec, pad_width, mode='constant')\n",
        "                else:\n",
        "                    mel_spec = mel_spec[:target_length, :]\n",
        "\n",
        "                X.append(mel_spec)\n",
        "                y.append(label)\n",
        "\n",
        "    X = np.array(X)\n",
        "    X = np.expand_dims(X, -1)  # Add channel dimension\n",
        "    y = np.array(y)\n",
        "\n",
        "    return X, y\n",
        "\n",
        "# Load Data with Augmentation\n",
        "X, y = prepare_data(augment=True)\n",
        "\n",
        "# Fix Train-Test Split with Stratification\n",
        "X_train, X_test, y_train, y_test = train_test_split(\n",
        "    X, y, test_size=0.2, random_state=42, stratify=y\n",
        ")\n",
        "\n",
        "# Print Class Distribution\n",
        "print(\"Train class distribution:\", np.bincount(y_train))\n",
        "print(\"Test class distribution:\", np.bincount(y_test))\n",
        "\n",
        "# Model Architecture with Reduced Complexity\n",
        "def create_model(input_shape):\n",
        "    model = models.Sequential([\n",
        "        layers.Conv2D(32, (3, 3), activation='relu', input_shape=input_shape),\n",
        "        layers.BatchNormalization(),\n",
        "        layers.MaxPooling2D((2, 2)),\n",
        "\n",
        "        layers.Conv2D(64, (3, 3), activation='relu'),\n",
        "        layers.BatchNormalization(),\n",
        "        layers.MaxPooling2D((2, 2)),\n",
        "\n",
        "        layers.Conv2D(128, (3, 3), activation='relu'),\n",
        "        layers.BatchNormalization(),\n",
        "        layers.MaxPooling2D((2, 2)),\n",
        "\n",
        "        layers.Reshape((14, 14*128)),  # Adjusted for fewer filters\n",
        "        layers.Bidirectional(layers.LSTM(64, return_sequences=False)),  # Reduced LSTM units\n",
        "\n",
        "        layers.Dense(128, activation='relu'),\n",
        "        layers.Dropout(0.6),  # Increased dropout\n",
        "        layers.Dense(1, activation='sigmoid')\n",
        "    ])\n",
        "\n",
        "    model.compile(optimizer='adam',\n",
        "                  loss='binary_crossentropy',\n",
        "                  metrics=['accuracy'])\n",
        "    return model\n",
        "\n",
        "# Create Model\n",
        "model = create_model(X_train.shape[1:])\n",
        "\n",
        "# Train with Early Stopping\n",
        "early_stop = tf.keras.callbacks.EarlyStopping(monitor='val_loss', patience=5, restore_best_weights=True)\n",
        "\n",
        "history = model.fit(X_train, y_train,\n",
        "                    epochs=50,\n",
        "                    batch_size=32,\n",
        "                    validation_data=(X_test, y_test),\n",
        "                    callbacks=[early_stop])\n",
        "\n",
        "# Evaluate Model\n",
        "test_loss, test_acc = model.evaluate(X_test, y_test)\n",
        "print(f\"\\nTest Accuracy: {test_acc:.4f}, Test Loss: {test_loss:.4f}\")\n",
        "\n",
        "# Make Predictions\n",
        "y_pred_probs = model.predict(X_test)\n",
        "y_pred_binary = (y_pred_probs > 0.5).astype(int)  # Convert to binary\n",
        "\n",
        "# Print Predicted Probabilities\n",
        "print(\"\\nPredicted Probability Values:\")\n",
        "print(y_pred_probs[:10])  # Show first 10 predictions\n",
        "\n",
        "# Classification Report\n",
        "print(\"\\nClassification Report:\")\n",
        "print(classification_report(y_test, y_pred_binary))\n",
        "\n",
        "# Confusion Matrix\n",
        "print(\"\\nConfusion Matrix:\")\n",
        "print(confusion_matrix(y_test, y_pred_binary))\n",
        "\n",
        "# Precision, Recall, F1-Score\n",
        "precision = precision_score(y_test, y_pred_binary)\n",
        "recall = recall_score(y_test, y_pred_binary)\n",
        "f1 = f1_score(y_test, y_pred_binary)\n",
        "\n",
        "print(f\"\\nPrecision: {precision:.4f}, Recall: {recall:.4f}, F1 Score: {f1:.4f}\")\n"
      ]
    },
    {
      "cell_type": "code",
      "execution_count": null,
      "metadata": {
        "colab": {
          "base_uri": "https://localhost:8080/"
        },
        "id": "JTA5O4BCDUwg",
        "outputId": "3870d306-db10-46ff-df1e-e42d8a0c0101"
      },
      "outputs": [
        {
          "output_type": "stream",
          "name": "stdout",
          "text": [
            "\u001b[1m7/7\u001b[0m \u001b[32m━━━━━━━━━━━━━━━━━━━━\u001b[0m\u001b[37m\u001b[0m \u001b[1m0s\u001b[0m 13ms/step\n",
            "Predicted Probability Values:\n",
            "[1.   0.   0.   0.   1.   0.99 1.   1.   0.   0.   0.99 1.   1.   0.\n",
            " 0.   0.   1.   0.   1.   0.   1.   0.   1.   0.   1.   1.   1.   1.\n",
            " 0.   1.   0.   1.   1.   1.   1.   0.   0.   0.   0.   0.   0.   1.\n",
            " 1.   0.   0.   1.   0.   1.   1.   0.   0.98 0.   0.99 0.01 0.   0.\n",
            " 1.   0.   0.   1.   1.   1.   0.99 0.   0.   0.   1.   0.99 0.   0.\n",
            " 0.   0.   1.   1.   1.   1.   0.   0.   1.   0.   0.   0.93 1.   1.\n",
            " 0.77 0.   0.   0.   0.   0.   1.   1.   0.96 0.   0.   1.   1.   0.\n",
            " 1.   0.   1.   0.   0.   1.   1.   0.99 0.   1.   0.   0.99 1.   1.\n",
            " 0.   1.   0.   0.   0.68 1.   0.   0.   0.   1.   0.   1.   0.   0.\n",
            " 0.01 0.   0.   0.   0.   1.   0.   0.   0.   0.   0.   0.   0.   0.\n",
            " 0.99 1.   0.   0.   1.   0.   0.   1.   1.   0.   0.   0.   1.   1.\n",
            " 1.   0.   1.   0.98 0.   0.   1.   1.   1.   0.   1.   0.99 1.   0.\n",
            " 0.08 0.   0.   0.   1.   0.   0.95 0.32 0.   0.   0.   1.   0.99 0.\n",
            " 1.   0.   1.   1.   1.   0.43 1.   1.   0.   1.   1.   0.99 0.94 1.\n",
            " 1.   0.   0.67 1.  ]\n",
            "\n",
            "Classification Report:\n",
            "              precision    recall  f1-score   support\n",
            "\n",
            "           0       0.98      1.00      0.99       100\n",
            "           1       1.00      0.98      0.99       100\n",
            "\n",
            "    accuracy                           0.99       200\n",
            "   macro avg       0.99      0.99      0.99       200\n",
            "weighted avg       0.99      0.99      0.99       200\n",
            "\n",
            "\n",
            "Confusion Matrix:\n",
            "[[100   0]\n",
            " [  2  98]]\n",
            "\u001b[1m7/7\u001b[0m \u001b[32m━━━━━━━━━━━━━━━━━━━━\u001b[0m\u001b[37m\u001b[0m \u001b[1m0s\u001b[0m 15ms/step - accuracy: 0.9962 - loss: 0.0094\n",
            "\n",
            "Test Loss: 0.0182, Test Accuracy: 0.9900\n"
          ]
        }
      ],
      "source": [
        "from sklearn.metrics import classification_report, confusion_matrix\n",
        "\n",
        "# Predict on test set\n",
        "y_pred = model.predict(X_test)\n",
        "\n",
        "# # Convert probabilities to binary values (0 or 1)\n",
        "# y_pred_binary = (y_pred > 0.5).astype(int)  # Fix: Define y_pred_binary\n",
        "\n",
        "# Print predicted probability values\n",
        "print(\"Predicted Probability Values:\")\n",
        "formatted_probs = np.round(y_pred.flatten(), 2)  # Round to 2 decimal places\n",
        "print(formatted_probs)\n",
        "\n",
        "# Print classification report\n",
        "print(\"\\nClassification Report:\")\n",
        "print(classification_report(y_test, y_pred_binary))\n",
        "\n",
        "# Print confusion matrix\n",
        "print(\"\\nConfusion Matrix:\")\n",
        "print(confusion_matrix(y_test, y_pred_binary))\n",
        "\n",
        "# Evaluate the model again\n",
        "test_loss, test_accuracy = model.evaluate(X_test, y_test)\n",
        "print(f\"\\nTest Loss: {test_loss:.4f}, Test Accuracy: {test_accuracy:.4f}\")\n"
      ]
    },
    {
      "cell_type": "code",
      "execution_count": null,
      "metadata": {
        "colab": {
          "base_uri": "https://localhost:8080/",
          "height": 1000
        },
        "id": "8t3D4aYyEZyt",
        "outputId": "faa8feed-8564-4cf5-d618-c29a06cb4b73"
      },
      "outputs": [
        {
          "output_type": "stream",
          "name": "stdout",
          "text": [
            "\u001b[1m7/7\u001b[0m \u001b[32m━━━━━━━━━━━━━━━━━━━━\u001b[0m\u001b[37m\u001b[0m \u001b[1m0s\u001b[0m 13ms/step\n"
          ]
        },
        {
          "output_type": "display_data",
          "data": {
            "text/plain": [
              "<Figure size 600x600 with 2 Axes>"
            ],
            "image/png": "[encoded data removed]"
          },
          "metadata": {}
        },
        {
          "output_type": "stream",
          "name": "stdout",
          "text": [
            "Classification Report:\n",
            "              precision    recall  f1-score   support\n",
            "\n",
            " Non-Snoring       0.98      1.00      0.99       100\n",
            "     Snoring       1.00      0.98      0.99       100\n",
            "\n",
            "    accuracy                           0.99       200\n",
            "   macro avg       0.99      0.99      0.99       200\n",
            "weighted avg       0.99      0.99      0.99       200\n",
            "\n"
          ]
        },
        {
          "output_type": "display_data",
          "data": {
            "text/plain": [
              "<Figure size 1500x500 with 3 Axes>"
            ],
            "image/png": "[encoded data removed]"
          },
          "metadata": {}
        },
        {
          "output_type": "stream",
          "name": "stdout",
          "text": [
            "\u001b[1m7/7\u001b[0m \u001b[32m━━━━━━━━━━━━━━━━━━━━\u001b[0m\u001b[37m\u001b[0m \u001b[1m0s\u001b[0m 13ms/step\n"
          ]
        },
        {
          "output_type": "display_data",
          "data": {
            "text/plain": [
              "<Figure size 800x600 with 1 Axes>"
            ],
            "image/png": "[encoded data removed]"
          },
          "metadata": {}
        }
      ],
      "source": [
        "import matplotlib.pyplot as plt\n",
        "import seaborn as sns\n",
        "from sklearn.metrics import classification_report, confusion_matrix\n",
        "\n",
        "# After predicting on the test set\n",
        "\n",
        "# Predict on the test set\n",
        "y_pred = model.predict(X_test)\n",
        "\n",
        "y_pred_binary = (y_pred > 0.5).astype(int)\n",
        "\n",
        "# Use probability threshold only for confusion matrix\n",
        "cm = confusion_matrix(y_test, y_pred_binary)\n",
        "\n",
        "# Plot Confusion Matrix\n",
        "plt.figure(figsize=(6, 6))\n",
        "sns.heatmap(cm, annot=True, fmt=\"d\", cmap=\"Blues\", xticklabels=['Non-Snoring', 'Snoring'], yticklabels=['Non-Snoring', 'Snoring'])\n",
        "plt.xlabel('Predicted Labels')\n",
        "plt.ylabel('True Labels')\n",
        "plt.title('Confusion Matrix')\n",
        "plt.show()\n",
        "\n",
        "# Classification Report\n",
        "report = classification_report(y_test, y_pred_binary, target_names=['Non-Snoring', 'Snoring'])\n",
        "\n",
        "# Print Classification Report\n",
        "print(\"Classification Report:\")\n",
        "print(report)\n",
        "\n",
        "# Optionally, you can also plot precision, recall, and f1-score using bar charts:\n",
        "\n",
        "# Extract metrics from the classification report\n",
        "metrics = classification_report(y_test, y_pred_binary, output_dict=True)\n",
        "\n",
        "# Adjust to use the correct keys (0 for Non-Snoring, 1 for Snoring)\n",
        "precision = [metrics['0']['precision'], metrics['1']['precision']]\n",
        "recall = [metrics['0']['recall'], metrics['1']['recall']]\n",
        "f1_score = [metrics['0']['f1-score'], metrics['1']['f1-score']]\n",
        "\n",
        "# Plot Bar Charts for Precision, Recall, and F1-Score\n",
        "labels = ['Non-Snoring', 'Snoring']\n",
        "\n",
        "fig, axes = plt.subplots(1, 3, figsize=(15, 5))\n",
        "\n",
        "# Precision\n",
        "axes[0].bar(labels, precision, color='blue')\n",
        "axes[0].set_title('Precision')\n",
        "axes[0].set_ylim(0, 1)\n",
        "\n",
        "# Recall\n",
        "axes[1].bar(labels, recall, color='green')\n",
        "axes[1].set_title('Recall')\n",
        "axes[1].set_ylim(0, 1)\n",
        "\n",
        "# F1-Score\n",
        "axes[2].bar(labels, f1_score, color='orange')\n",
        "axes[2].set_title('F1-Score')\n",
        "axes[2].set_ylim(0, 1)\n",
        "\n",
        "plt.tight_layout()\n",
        "plt.show()\n",
        "\n",
        "from sklearn.metrics import f1_score, recall_score, precision_recall_curve\n",
        "import matplotlib.pyplot as plt\n",
        "\n",
        "# Get predicted probabilities from the model\n",
        "y_pred_prob = model.predict(X_test)\n",
        "\n",
        "# Calculate precision, recall, and thresholds\n",
        "precision, recall, thresholds = precision_recall_curve(y_test, y_pred_prob)\n",
        "\n",
        "# Calculate F1-Score for each threshold\n",
        "f1_scores = 2 * (precision * recall) / (precision + recall)\n",
        "\n",
        "# Plot F1-Score vs Recall curve\n",
        "plt.figure(figsize=(8, 6))\n",
        "plt.plot(recall, f1_scores, color='blue', label='F1-Score vs Recall')\n",
        "plt.title('F1-Score vs Recall Curve')\n",
        "plt.xlabel('Recall')\n",
        "plt.ylabel('F1-Score')\n",
        "plt.grid(True)\n",
        "plt.legend()\n",
        "plt.show()\n"
      ]
    }
  ],
  "metadata": {
    "accelerator": "GPU",
    "colab": {
      "gpuType": "T4",
      "provenance": []
    },
    "kernelspec": {
      "display_name": "Python 3",
      "name": "python3"
    },
    "language_info": {
      "name": "python"
    }
  },
  "nbformat": 4,
  "nbformat_minor": 0
}